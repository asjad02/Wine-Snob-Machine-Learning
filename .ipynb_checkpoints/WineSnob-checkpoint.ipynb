{
 "cells": [
  {
   "cell_type": "code",
   "execution_count": 1,
   "metadata": {},
   "outputs": [],
   "source": [
    "import numpy as np\n",
    "import pandas as pd\n",
    "from sklearn.model_selection import train_test_split\n",
    "from sklearn import preprocessing\n",
    "from sklearn.ensemble import RandomForestRegressor\n",
    "from sklearn.pipeline import make_pipeline\n",
    "from sklearn.model_selection import GridSearchCV\n",
    "from sklearn.metrics import mean_squared_error, r2_score\n",
    "from sklearn.externals import joblib"
   ]
  },
  {
   "cell_type": "code",
   "execution_count": 2,
   "metadata": {},
   "outputs": [],
   "source": [
    "# Loading the data\n",
    "dataset_url = 'http://mlr.cs.umass.edu/ml/machine-learning-databases/wine-quality/winequality-red.csv'\n",
    "data = pd.read_csv(dataset_url)"
   ]
  },
  {
   "cell_type": "code",
   "execution_count": 3,
   "metadata": {},
   "outputs": [
    {
     "name": "stdout",
     "output_type": "stream",
     "text": [
      "  fixed acidity;\"volatile acidity\";\"citric acid\";\"residual sugar\";\"chlorides\";\"free sulfur dioxide\";\"total sulfur dioxide\";\"density\";\"pH\";\"sulphates\";\"alcohol\";\"quality\"\n",
      "0   7.4;0.7;0;1.9;0.076;11;34;0.9978;3.51;0.56;9.4;5                                                                                                                     \n",
      "1   7.8;0.88;0;2.6;0.098;25;67;0.9968;3.2;0.68;9.8;5                                                                                                                     \n",
      "2  7.8;0.76;0.04;2.3;0.092;15;54;0.997;3.26;0.65;...                                                                                                                     \n",
      "3  11.2;0.28;0.56;1.9;0.075;17;60;0.998;3.16;0.58...                                                                                                                     \n",
      "4   7.4;0.7;0;1.9;0.076;11;34;0.9978;3.51;0.56;9.4;5                                                                                                                     \n"
     ]
    }
   ],
   "source": [
    "# Lets check the data first\n",
    "print( data.head())\n"
   ]
  },
  {
   "cell_type": "code",
   "execution_count": 4,
   "metadata": {},
   "outputs": [
    {
     "name": "stdout",
     "output_type": "stream",
     "text": [
      "   fixed acidity  volatile acidity  citric acid  residual sugar  chlorides  \\\n",
      "0            7.4              0.70         0.00             1.9      0.076   \n",
      "1            7.8              0.88         0.00             2.6      0.098   \n",
      "2            7.8              0.76         0.04             2.3      0.092   \n",
      "3           11.2              0.28         0.56             1.9      0.075   \n",
      "4            7.4              0.70         0.00             1.9      0.076   \n",
      "\n",
      "   free sulfur dioxide  total sulfur dioxide  density    pH  sulphates  \\\n",
      "0                 11.0                  34.0   0.9978  3.51       0.56   \n",
      "1                 25.0                  67.0   0.9968  3.20       0.68   \n",
      "2                 15.0                  54.0   0.9970  3.26       0.65   \n",
      "3                 17.0                  60.0   0.9980  3.16       0.58   \n",
      "4                 11.0                  34.0   0.9978  3.51       0.56   \n",
      "\n",
      "   alcohol  quality  \n",
      "0      9.4        5  \n",
      "1      9.8        5  \n",
      "2      9.8        5  \n",
      "3      9.8        6  \n",
      "4      9.4        5  \n"
     ]
    }
   ],
   "source": [
    "# Lets make it more understanable by :\n",
    "data = pd.read_csv(dataset_url, sep=';')\n",
    "print( data.head())"
   ]
  },
  {
   "cell_type": "code",
   "execution_count": 5,
   "metadata": {},
   "outputs": [],
   "source": [
    "# The above figure is more unerstanable since the file was csv(comma seperated file)"
   ]
  },
  {
   "cell_type": "code",
   "execution_count": 6,
   "metadata": {},
   "outputs": [
    {
     "name": "stdout",
     "output_type": "stream",
     "text": [
      "(1599, 12)\n"
     ]
    }
   ],
   "source": [
    "# Lets check the size of data\n",
    "print( data.shape)"
   ]
  },
  {
   "cell_type": "code",
   "execution_count": 7,
   "metadata": {},
   "outputs": [],
   "source": [
    "# Thus we have 1599 samples and 12 features"
   ]
  },
  {
   "cell_type": "code",
   "execution_count": 9,
   "metadata": {},
   "outputs": [
    {
     "name": "stdout",
     "output_type": "stream",
     "text": [
      "       fixed acidity  volatile acidity  citric acid  residual sugar  \\\n",
      "count    1599.000000       1599.000000  1599.000000     1599.000000   \n",
      "mean        8.319637          0.527821     0.270976        2.538806   \n",
      "std         1.741096          0.179060     0.194801        1.409928   \n",
      "min         4.600000          0.120000     0.000000        0.900000   \n",
      "25%         7.100000          0.390000     0.090000        1.900000   \n",
      "50%         7.900000          0.520000     0.260000        2.200000   \n",
      "75%         9.200000          0.640000     0.420000        2.600000   \n",
      "max        15.900000          1.580000     1.000000       15.500000   \n",
      "\n",
      "         chlorides  free sulfur dioxide  total sulfur dioxide      density  \\\n",
      "count  1599.000000          1599.000000           1599.000000  1599.000000   \n",
      "mean      0.087467            15.874922             46.467792     0.996747   \n",
      "std       0.047065            10.460157             32.895324     0.001887   \n",
      "min       0.012000             1.000000              6.000000     0.990070   \n",
      "25%       0.070000             7.000000             22.000000     0.995600   \n",
      "50%       0.079000            14.000000             38.000000     0.996750   \n",
      "75%       0.090000            21.000000             62.000000     0.997835   \n",
      "max       0.611000            72.000000            289.000000     1.003690   \n",
      "\n",
      "                pH    sulphates      alcohol      quality  \n",
      "count  1599.000000  1599.000000  1599.000000  1599.000000  \n",
      "mean      3.311113     0.658149    10.422983     5.636023  \n",
      "std       0.154386     0.169507     1.065668     0.807569  \n",
      "min       2.740000     0.330000     8.400000     3.000000  \n",
      "25%       3.210000     0.550000     9.500000     5.000000  \n",
      "50%       3.310000     0.620000    10.200000     6.000000  \n",
      "75%       3.400000     0.730000    11.100000     6.000000  \n",
      "max       4.010000     2.000000    14.900000     8.000000  \n"
     ]
    }
   ],
   "source": [
    "# Lets observe some summary statistics\n",
    "print(data.describe())"
   ]
  },
  {
   "cell_type": "code",
   "execution_count": 10,
   "metadata": {},
   "outputs": [],
   "source": [
    "# Quality is target(i.e y)\n",
    "# make a note that variables have different scales. Thus, there is a need to STANDARDIZE the data. \n",
    "# We will do that shortly"
   ]
  },
  {
   "cell_type": "code",
   "execution_count": 14,
   "metadata": {},
   "outputs": [],
   "source": [
    "# Lets Split the data into train and test\n",
    "# Initially seperate the target from features\n",
    "y = data.quality\n",
    "# we need to remove target from train features\n",
    "X = data.drop('quality', axis=1)\n",
    "# We will use 20% of the data for testing purpose\n",
    "X_train, X_test, y_train, y_test = train_test_split(X, y, test_size=0.2, random_state=123,\n",
    "                                                   stratify=y)\n",
    "# random_state is seed to reproduce our results\n",
    "# stratify is needed to ensure that train and test set is similar, makes evaluation metric reliable"
   ]
  },
  {
   "cell_type": "code",
   "execution_count": 15,
   "metadata": {},
   "outputs": [
    {
     "name": "stdout",
     "output_type": "stream",
     "text": [
      "[  1.16664562e-16  -3.05550043e-17  -8.47206937e-17  -2.22218213e-17\n",
      "   2.22218213e-17  -6.38877362e-17  -4.16659149e-18  -2.54439854e-15\n",
      "  -8.70817622e-16  -4.08325966e-16  -1.17220107e-15]\n",
      "[ 1.  1.  1.  1.  1.  1.  1.  1.  1.  1.  1.]\n"
     ]
    }
   ],
   "source": [
    "# We will make use of Transform API for scaling\n",
    "scaler = preprocessing.StandardScaler().fit(X_train)\n",
    "# Scaler has saved mean and sd for every feature present in X_train\n",
    "# Lets check\n",
    "X_train_scaled = scaler.transform(X_train)\n",
    "print(X_train_scaled.mean(axis=0))\n",
    "print(X_train_scaled.std(axis=0))"
   ]
  },
  {
   "cell_type": "code",
   "execution_count": 16,
   "metadata": {},
   "outputs": [],
   "source": [
    "# mean is very very near to 0 or negligibly greater than 0\n",
    "# standard deviation is 1"
   ]
  },
  {
   "cell_type": "code",
   "execution_count": 17,
   "metadata": {},
   "outputs": [
    {
     "name": "stdout",
     "output_type": "stream",
     "text": [
      "[ 0.02776704  0.02592492 -0.03078587 -0.03137977 -0.00471876 -0.04413827\n",
      " -0.02414174 -0.00293273 -0.00467444 -0.10894663  0.01043391]\n",
      "[ 1.02160495  1.00135689  0.97456598  0.91099054  0.86716698  0.94193125\n",
      "  1.03673213  1.03145119  0.95734849  0.83829505  1.0286218 ]\n"
     ]
    }
   ],
   "source": [
    "# Applying transformer to test data\n",
    "X_test_scaled = scaler.transform(X_test)\n",
    "print(X_test_scaled.mean(axis=0))\n",
    "print(X_test_scaled.std(axis=0))"
   ]
  },
  {
   "cell_type": "code",
   "execution_count": 18,
   "metadata": {},
   "outputs": [],
   "source": [
    "# Lets try cross validation pipeline\n",
    "pipeline = make_pipeline(preprocessing.StandardScaler(), RandomForestRegressor(n_estimators=100))\n",
    "# in simple words initially we are transforming the data using StandardScaler() and \n",
    "# later we are fitting the model using RandomForest and n_estimators are no. of trees used \n",
    "# since it is an ensemble method"
   ]
  },
  {
   "cell_type": "code",
   "execution_count": 19,
   "metadata": {},
   "outputs": [
    {
     "name": "stdout",
     "output_type": "stream",
     "text": [
      "{'memory': None, 'steps': [('standardscaler', StandardScaler(copy=True, with_mean=True, with_std=True)), ('randomforestregressor', RandomForestRegressor(bootstrap=True, criterion='mse', max_depth=None,\n",
      "           max_features='auto', max_leaf_nodes=None,\n",
      "           min_impurity_decrease=0.0, min_impurity_split=None,\n",
      "           min_samples_leaf=1, min_samples_split=2,\n",
      "           min_weight_fraction_leaf=0.0, n_estimators=100, n_jobs=None,\n",
      "           oob_score=False, random_state=None, verbose=0, warm_start=False))], 'standardscaler': StandardScaler(copy=True, with_mean=True, with_std=True), 'randomforestregressor': RandomForestRegressor(bootstrap=True, criterion='mse', max_depth=None,\n",
      "           max_features='auto', max_leaf_nodes=None,\n",
      "           min_impurity_decrease=0.0, min_impurity_split=None,\n",
      "           min_samples_leaf=1, min_samples_split=2,\n",
      "           min_weight_fraction_leaf=0.0, n_estimators=100, n_jobs=None,\n",
      "           oob_score=False, random_state=None, verbose=0, warm_start=False), 'standardscaler__copy': True, 'standardscaler__with_mean': True, 'standardscaler__with_std': True, 'randomforestregressor__bootstrap': True, 'randomforestregressor__criterion': 'mse', 'randomforestregressor__max_depth': None, 'randomforestregressor__max_features': 'auto', 'randomforestregressor__max_leaf_nodes': None, 'randomforestregressor__min_impurity_decrease': 0.0, 'randomforestregressor__min_impurity_split': None, 'randomforestregressor__min_samples_leaf': 1, 'randomforestregressor__min_samples_split': 2, 'randomforestregressor__min_weight_fraction_leaf': 0.0, 'randomforestregressor__n_estimators': 100, 'randomforestregressor__n_jobs': None, 'randomforestregressor__oob_score': False, 'randomforestregressor__random_state': None, 'randomforestregressor__verbose': 0, 'randomforestregressor__warm_start': False}\n"
     ]
    }
   ],
   "source": [
    "# Hyperparam section \n",
    "# Initially observe the list of tunable hyperparam\n",
    "print(pipeline.get_params())"
   ]
  },
  {
   "cell_type": "code",
   "execution_count": 20,
   "metadata": {},
   "outputs": [],
   "source": [
    "# 'randomforestregressor__criterion': 'mse', 'randomforestregressor__max_depth':None,\n",
    "# 'randomforestregressor__max_features': 'auto', 'randomforestregressor__max_leaf_nodes': None,"
   ]
  },
  {
   "cell_type": "code",
   "execution_count": 21,
   "metadata": {},
   "outputs": [],
   "source": [
    "# Lets tune hyperparam\n",
    "hyperparameters = {'randomforestregressor__max_features':['auto', 'sqrt', 'log2'],\n",
    "                    'randomforestregressor__max_depth': [None, 5, 3, 1]}\n",
    "# since we had opte for pipeline we are using __ \n",
    "# follow the documentation for more details on hyperparam : "
   ]
  },
  {
   "cell_type": "code",
   "execution_count": 22,
   "metadata": {},
   "outputs": [
    {
     "data": {
      "text/plain": [
       "GridSearchCV(cv=10, error_score='raise-deprecating',\n",
       "       estimator=Pipeline(memory=None,\n",
       "     steps=[('standardscaler', StandardScaler(copy=True, with_mean=True, with_std=True)), ('randomforestregressor', RandomForestRegressor(bootstrap=True, criterion='mse', max_depth=None,\n",
       "           max_features='auto', max_leaf_nodes=None,\n",
       "           min_impurity_decr...ors=100, n_jobs=None,\n",
       "           oob_score=False, random_state=None, verbose=0, warm_start=False))]),\n",
       "       fit_params=None, iid='warn', n_jobs=None,\n",
       "       param_grid={'randomforestregressor__max_features': ['auto', 'sqrt', 'log2'], 'randomforestregressor__max_depth': [None, 5, 3, 1]},\n",
       "       pre_dispatch='2*n_jobs', refit=True, return_train_score='warn',\n",
       "       scoring=None, verbose=0)"
      ]
     },
     "execution_count": 22,
     "metadata": {},
     "output_type": "execute_result"
    }
   ],
   "source": [
    "# Lets tune model using CV with pipeline\n",
    "clf = GridSearchCV(pipeline, hyperparameters, cv=10)\n",
    "# cv =  is the no. of folds to create\n",
    "# Fitting and tuning the model\n",
    "clf.fit(X_train, y_train)"
   ]
  },
  {
   "cell_type": "code",
   "execution_count": 23,
   "metadata": {},
   "outputs": [
    {
     "name": "stdout",
     "output_type": "stream",
     "text": [
      "{'randomforestregressor__max_depth': None, 'randomforestregressor__max_features': 'sqrt'}\n"
     ]
    }
   ],
   "source": [
    "# Now we are having the leisure of getting the best params \n",
    "print(clf.best_params_)"
   ]
  },
  {
   "cell_type": "code",
   "execution_count": 24,
   "metadata": {},
   "outputs": [],
   "source": [
    "# Follow the documentation and u will be surprised that the default param work well\n",
    "# as in practise Random Forest doent require a lot of tuning"
   ]
  },
  {
   "cell_type": "code",
   "execution_count": 25,
   "metadata": {},
   "outputs": [
    {
     "name": "stdout",
     "output_type": "stream",
     "text": [
      "True\n"
     ]
    }
   ],
   "source": [
    "# GridSearchCV autoamtically  refits the model with best param but we can confirm this manually\n",
    "print(clf.refit)"
   ]
  },
  {
   "cell_type": "code",
   "execution_count": 26,
   "metadata": {},
   "outputs": [],
   "source": [
    "# Evaluating on model pipeline on test data\n",
    "y_pred = clf.predict(X_test)"
   ]
  },
  {
   "cell_type": "code",
   "execution_count": 27,
   "metadata": {},
   "outputs": [
    {
     "name": "stdout",
     "output_type": "stream",
     "text": [
      "0.457735213996\n",
      "0.3499090625\n"
     ]
    }
   ],
   "source": [
    "# Lets use the metrics\n",
    "print(r2_score(y_test, y_pred))\n",
    "print(mean_squared_error(y_test, y_pred))"
   ]
  },
  {
   "cell_type": "code",
   "execution_count": 28,
   "metadata": {},
   "outputs": [
    {
     "data": {
      "text/plain": [
       "['rf_regressor.pkl']"
      ]
     },
     "execution_count": 28,
     "metadata": {},
     "output_type": "execute_result"
    }
   ],
   "source": [
    "joblib.dump(clf, 'rf_regressor.pkl')\n",
    "# saving a model to a .pkl file"
   ]
  },
  {
   "cell_type": "code",
   "execution_count": 29,
   "metadata": {},
   "outputs": [
    {
     "data": {
      "text/plain": [
       "array([ 6.48,  5.68,  4.98,  5.53,  6.25,  5.62,  4.9 ,  4.75,  5.01,\n",
       "        5.97,  5.28,  5.71,  6.02,  5.07,  5.78,  5.6 ,  6.59,  5.66,\n",
       "        5.66,  6.97,  5.5 ,  5.65,  5.01,  6.09,  5.97,  5.03,  5.42,\n",
       "        5.13,  5.91,  6.01,  5.84,  6.47,  5.98,  5.02,  5.03,  5.97,\n",
       "        5.07,  6.14,  5.19,  5.97,  4.91,  6.04,  6.68,  5.15,  6.22,\n",
       "        5.4 ,  5.54,  5.54,  5.13,  6.54,  6.14,  5.27,  5.87,  5.08,\n",
       "        5.67,  5.85,  5.42,  5.37,  5.04,  5.29,  5.18,  5.02,  5.06,\n",
       "        5.81,  5.87,  5.24,  6.44,  5.03,  5.13,  6.66,  5.74,  5.72,\n",
       "        5.07,  5.02,  5.33,  5.99,  5.4 ,  5.12,  5.26,  5.19,  6.25,\n",
       "        5.58,  6.12,  6.26,  5.07,  6.01,  6.44,  6.4 ,  5.67,  5.88,\n",
       "        5.86,  5.42,  6.4 ,  5.66,  5.71,  5.79,  6.61,  6.8 ,  5.54,\n",
       "        6.73,  5.06,  5.48,  5.13,  6.48,  5.05,  4.69,  5.61,  5.05,\n",
       "        5.65,  5.84,  5.94,  5.51,  5.95,  5.32,  5.07,  5.24,  5.97,\n",
       "        5.03,  4.98,  5.97,  5.91,  5.1 ,  5.78,  6.1 ,  5.19,  5.42,\n",
       "        5.31,  5.95,  5.45,  5.43,  5.88,  6.24,  5.17,  5.39,  5.06,\n",
       "        6.53,  5.01,  5.16,  6.65,  5.38,  5.14,  5.06,  5.72,  6.09,\n",
       "        5.33,  5.39,  5.14,  6.47,  5.89,  5.17,  5.55,  5.16,  5.01,\n",
       "        5.02,  5.25,  5.92,  5.29,  5.69,  5.73,  5.26,  5.56,  5.3 ,\n",
       "        5.23,  6.08,  5.05,  5.94,  5.13,  5.35,  5.51,  5.11,  5.8 ,\n",
       "        5.14,  5.7 ,  5.01,  5.61,  5.44,  5.06,  5.42,  5.58,  5.08,\n",
       "        6.06,  5.45,  5.11,  4.96,  5.13,  6.17,  5.15,  5.54,  5.24,\n",
       "        4.84,  5.43,  6.61,  5.85,  5.86,  5.39,  5.17,  5.43,  5.09,\n",
       "        6.25,  4.75,  6.27,  5.08,  5.21,  5.25,  6.78,  6.01,  5.23,\n",
       "        5.18,  5.36,  5.91,  5.82,  5.87,  5.96,  6.3 ,  5.81,  5.99,\n",
       "        5.24,  5.33,  5.62,  5.23,  5.2 ,  6.08,  6.  ,  5.59,  5.91,\n",
       "        5.88,  5.45,  6.19,  5.27,  5.77,  5.38,  5.46,  6.22,  5.76,\n",
       "        4.96,  4.59,  6.75,  6.48,  6.42,  5.22,  5.13,  5.49,  5.52,\n",
       "        6.24,  5.99,  5.15,  5.13,  5.43,  5.24,  6.37,  5.2 ,  5.03,\n",
       "        5.22,  5.21,  5.89,  6.41,  5.8 ,  5.48,  5.56,  6.37,  5.56,\n",
       "        6.01,  5.32,  5.07,  5.66,  5.79,  5.8 ,  5.59,  5.42,  5.11,\n",
       "        5.77,  5.5 ,  6.51,  5.99,  5.61,  5.02,  6.01,  6.53,  6.08,\n",
       "        5.3 ,  5.48,  5.25,  5.39,  5.99,  6.88,  5.32,  6.4 ,  5.86,\n",
       "        5.31,  5.36,  5.68,  5.18,  5.17,  6.28,  5.77,  5.97,  5.82,\n",
       "        5.91,  5.39,  5.65,  5.64,  6.11,  5.61,  6.9 ,  6.8 ,  5.9 ,\n",
       "        6.17,  5.  ,  5.28,  5.97,  5.32,  5.31,  6.03,  6.56,  6.41,\n",
       "        5.14,  5.6 ,  5.66,  6.08,  5.49])"
      ]
     },
     "execution_count": 29,
     "metadata": {},
     "output_type": "execute_result"
    }
   ],
   "source": [
    "# you can load the .pkl file and use it\n",
    "clf2 = joblib.load('rf_regressor.pkl')\n",
    "# Predicting model using loaded data\n",
    "clf2.predict(X_test)"
   ]
  },
  {
   "cell_type": "code",
   "execution_count": null,
   "metadata": {},
   "outputs": [],
   "source": []
  }
 ],
 "metadata": {
  "kernelspec": {
   "display_name": "Python 3",
   "language": "python",
   "name": "python3"
  },
  "language_info": {
   "codemirror_mode": {
    "name": "ipython",
    "version": 3
   },
   "file_extension": ".py",
   "mimetype": "text/x-python",
   "name": "python",
   "nbconvert_exporter": "python",
   "pygments_lexer": "ipython3",
   "version": "3.6.3"
  }
 },
 "nbformat": 4,
 "nbformat_minor": 2
}
